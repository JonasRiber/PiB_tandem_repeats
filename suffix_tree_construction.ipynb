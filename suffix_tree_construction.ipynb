{
 "cells": [
  {
   "cell_type": "markdown",
   "metadata": {},
   "source": [
    "### Suffix tree construction"
   ]
  },
  {
   "cell_type": "markdown",
   "metadata": {},
   "source": [
    "To be able to optimize the search for patterns within strings we need to do a couple of steps.\n",
    "Firstly we need to construct a suffix tree that we can search through.\n",
    "For this construction the most naive version would take O(n^2) time to construct and O(n^2) space\n",
    "However it is possible to optimize it to O(n) runtime and O(n) space\n",
    "Space can be optimized by change the edges from symbols to idx\n",
    "runtime can be optimized by..."
   ]
  },
  {
   "cell_type": "markdown",
   "metadata": {},
   "source": [
    "#### Naive construction"
   ]
  },
  {
   "cell_type": "code",
   "execution_count": 20,
   "metadata": {},
   "outputs": [
    {
     "name": "stdout",
     "output_type": "stream",
     "text": [
      "{'m': ['mississippi$'], 'i': ['ississippi$', 'issippi$', 'ippi$', 'i$'], 's': ['ssissippi$', 'sissippi$', 'ssippi$', 'sippi$'], 'p': ['ppi$', 'pi$'], '$': ['$']}\n"
     ]
    }
   ],
   "source": [
    "def construct_suffix_tree(s):\n",
    "    # First we add $ to the string\n",
    "    s = s + '$'\n",
    "    \n",
    "    # initialize the dictionary\n",
    "    suffix_tree = {}\n",
    "    \n",
    "    # make list of all suffixes\n",
    "    suffixes = [s[i:] for i in range(len(s))]\n",
    "    \n",
    "    # insert suffixes\n",
    "    for suffix in suffixes:\n",
    "        starting_char = suffix[0]\n",
    "        if starting_char not in suffix_tree:\n",
    "            suffix_tree[starting_char] = []\n",
    "        \n",
    "        # Append the suffix to the list for the starting character\n",
    "        suffix_tree[starting_char].append(suffix)\n",
    "    \n",
    "    # Return the suffix tree dictionary\n",
    "    return suffix_tree\n",
    "\n",
    "# Run the algoo\n",
    "s = \"mississippi\"\n",
    "suffix_tree = construct_suffix_tree(s)\n",
    "print(suffix_tree)"
   ]
  },
  {
   "cell_type": "markdown",
   "metadata": {},
   "source": [
    "Above might not give a usefull output. below is an outline of the algorithm "
   ]
  },
  {
   "cell_type": "code",
   "execution_count": null,
   "metadata": {},
   "outputs": [],
   "source": [
    "# Start at the root of Ni\n",
    "\n",
    "\n",
    "# Find the longest path from the root which matches a prefix of S[i+1..m]$\n",
    "\n",
    "\n",
    "# Match ends either at the node (say w) or in the middle of an edge [say (u, v)].\n",
    "\n",
    "\n",
    "# If it is in the middle of an edge (u, v), break the edge (u, v) into two edges \n",
    "# by inserting a new node w just after the last character on the edge that matched a \n",
    "# character in S[i+l..m] and just before the first character on the edge that mismatched. \n",
    "# The new edge (u, w) is labelled with the part of the (u, v) label that matched with S[i+1..m], \n",
    "# and the new edge (w, v) is labelled with the remaining part of the (u, v) label.\n",
    "\n",
    "\n",
    "# Create a new edge (w, i+1) from w to a new leaf labelled i+1 and it labels the new edge with \n",
    "# the unmatched part of suffix S[i+1..m]"
   ]
  },
  {
   "cell_type": "markdown",
   "metadata": {},
   "source": [
    "#### code below is from the book and translated into python"
   ]
  },
  {
   "cell_type": "code",
   "execution_count": 9,
   "metadata": {},
   "outputs": [
    {
     "name": "stdout",
     "output_type": "stream",
     "text": [
      "5\n"
     ]
    }
   ],
   "source": [
    "class Range:\n",
    "    def __init__(self, from_bytes, to_bytes):\n",
    "        # from_bytes and to_bytes are expected to be byte-like objects (e.g., bytes, bytearray)\n",
    "        self.from_bytes = from_bytes\n",
    "        self.to_bytes = to_bytes\n",
    "\n",
    "def range_length(r):\n",
    "    # The length is calculated as the difference in lengths of the byte-like objects\n",
    "    return len(r.to_bytes) - len(r.from_bytes)\n",
    "\n",
    "# Example usage\n",
    "r = Range(b'Hello', b'HelloWorld')\n",
    "length = range_length(r)\n",
    "print(length)  # Output: 5\n"
   ]
  },
  {
   "cell_type": "code",
   "execution_count": 10,
   "metadata": {},
   "outputs": [
    {
     "name": "stdout",
     "output_type": "stream",
     "text": [
      "5\n"
     ]
    }
   ],
   "source": [
    "class SuffixTreeNode:\n",
    "    def __init__(self, leaf_label, range_obj, parent=None, sibling=None, child=None, suffix_link=None):\n",
    "        self.leaf_label = leaf_label\n",
    "        self.range = range_obj\n",
    "        self.parent = parent\n",
    "        self.sibling = sibling\n",
    "        self.child = child\n",
    "        self.suffix_link = suffix_link\n",
    "\n",
    "def edge_length(node):\n",
    "    # Calculate the edge length using the range_length function\n",
    "    return range_length(node.range)\n",
    "\n",
    "# Example usage\n",
    "range_obj = Range(b'Hello', b'HelloWorld')\n",
    "node = SuffixTreeNode(leaf_label=1, range_obj=range_obj)\n",
    "length = edge_length(node)\n",
    "print(length)  # Output: 5\n"
   ]
  },
  {
   "cell_type": "code",
   "execution_count": 11,
   "metadata": {},
   "outputs": [
    {
     "name": "stdout",
     "output_type": "stream",
     "text": [
      "b'example'\n",
      "7\n",
      "0\n"
     ]
    }
   ],
   "source": [
    "class SuffixTreeNodePool:\n",
    "    # Assuming the pool contains a list of nodes, we'll define it as an empty list initially.\n",
    "    def __init__(self):\n",
    "        self.nodes = []\n",
    "\n",
    "class SuffixTree:\n",
    "    def __init__(self, string, length, root=None):\n",
    "        self.string = string           # Expecting a bytes-like object for the string\n",
    "        self.length = length           # Length of the string\n",
    "        self.root = root               # Root node of the suffix tree, if any\n",
    "        self.pool = SuffixTreeNodePool()  # Initialize the pool of nodes\n",
    "\n",
    "# Example usage\n",
    "root_node = SuffixTreeNode(leaf_label=0, range_obj=Range(b'', b''))  # Example root node\n",
    "suffix_tree = SuffixTree(string=b\"example\", length=len(b\"example\"), root=root_node)\n",
    "\n",
    "print(suffix_tree.string)  # Output: b'example'\n",
    "print(suffix_tree.length)  # Output: 7\n",
    "print(suffix_tree.root.leaf_label)  # Output: 0\n"
   ]
  },
  {
   "cell_type": "code",
   "execution_count": 12,
   "metadata": {},
   "outputs": [
    {
     "name": "stdout",
     "output_type": "stream",
     "text": [
      "2\n"
     ]
    }
   ],
   "source": [
    "class SuffixTreeNodePool:\n",
    "    def __init__(self):\n",
    "        self.nodes = []  # A list to hold the suffix tree nodes\n",
    "        self.next_node = None  # The next available node\n",
    "\n",
    "    def add_node(self, node):\n",
    "        # Add a node to the pool and update the next available node\n",
    "        self.nodes.append(node)\n",
    "        self.next_node = node  # Update the next_node reference\n",
    "\n",
    "    def get_next_node(self):\n",
    "        # Return the next available node, or None if the pool is empty\n",
    "        return self.next_node if self.nodes else None\n",
    "\n",
    "# Example usage\n",
    "node_pool = SuffixTreeNodePool()\n",
    "node1 = SuffixTreeNode(leaf_label=1, range_obj=Range(b'Hello', b'HelloWorld'))\n",
    "node2 = SuffixTreeNode(leaf_label=2, range_obj=Range(b'Example', b'ExampleTest'))\n",
    "\n",
    "node_pool.add_node(node1)\n",
    "node_pool.add_node(node2)\n",
    "\n",
    "print(node_pool.get_next_node().leaf_label)  # Output: 2 (the most recently added node)\n"
   ]
  },
  {
   "cell_type": "code",
   "execution_count": 13,
   "metadata": {},
   "outputs": [
    {
     "name": "stdout",
     "output_type": "stream",
     "text": [
      "b'abc'\n",
      "b'defghi'\n"
     ]
    }
   ],
   "source": [
    "def new_node(suffix_tree, from_bytes, to_bytes):\n",
    "    # Create a new SuffixTreeNode instance\n",
    "    node = SuffixTreeNode(\n",
    "        leaf_label=0,\n",
    "        range_obj=Range(from_bytes, to_bytes)  # Initialize the range object with given 'from' and 'to' bytes\n",
    "    )\n",
    "    \n",
    "    # Initialize other attributes of the node\n",
    "    node.parent = None\n",
    "    node.sibling = None\n",
    "    node.child = None\n",
    "    node.suffix_link = None\n",
    "\n",
    "    # Add the new node to the pool\n",
    "    suffix_tree.pool.add_node(node)\n",
    "\n",
    "    return node\n",
    "\n",
    "# Example usage\n",
    "suffix_tree = SuffixTree(string=b\"example\", length=len(b\"example\"))\n",
    "new_node1 = new_node(suffix_tree, b\"abc\", b\"abcdef\")\n",
    "new_node2 = new_node(suffix_tree, b\"def\", b\"defghi\")\n",
    "\n",
    "print(new_node1.range.from_bytes)  # Output: b'abc'\n",
    "print(new_node2.range.to_bytes)    # Output: b'defghi'\n"
   ]
  },
  {
   "cell_type": "code",
   "execution_count": 14,
   "metadata": {},
   "outputs": [
    {
     "name": "stdout",
     "output_type": "stream",
     "text": [
      "[]\n",
      "None\n"
     ]
    }
   ],
   "source": [
    "def free_suffix_tree(suffix_tree):\n",
    "    # Clear the nodes in the pool\n",
    "    suffix_tree.pool.nodes.clear()  # Clear the list of nodes\n",
    "    suffix_tree.pool.next_node = None  # Reset the next_node reference\n",
    "\n",
    "    # Optionally clear other references in the suffix tree\n",
    "    suffix_tree.root = None\n",
    "    # We do not manage suffix_tree.string, so we do not modify it\n",
    "\n",
    "    # After this function call, Python's garbage collector will automatically free the memory\n",
    "\n",
    "# Example usage\n",
    "suffix_tree = SuffixTree(string=b\"example\", length=len(b\"example\"))\n",
    "new_node1 = new_node(suffix_tree, b\"abc\", b\"abcdef\")\n",
    "free_suffix_tree(suffix_tree)\n",
    "\n",
    "print(suffix_tree.pool.nodes)  # Output: []\n",
    "print(suffix_tree.root)  # Output: None\n"
   ]
  },
  {
   "cell_type": "code",
   "execution_count": 15,
   "metadata": {},
   "outputs": [
    {
     "name": "stdout",
     "output_type": "stream",
     "text": [
      "b'example'\n",
      "8\n",
      "16\n",
      "True\n",
      "True\n"
     ]
    }
   ],
   "source": [
    "def alloc_suffix_tree(string):\n",
    "    # Create a new suffix tree object\n",
    "    suffix_tree = SuffixTree(string=string, length=len(string) + 1)  # Add 1 for the '\\0' sentinel\n",
    "\n",
    "    # Calculate the maximum number of nodes in the tree\n",
    "    pool_size = 2 if suffix_tree.length == 1 else (2 * suffix_tree.length - 1)\n",
    "    \n",
    "    # Initialize the node pool\n",
    "    suffix_tree.pool.nodes = [None] * pool_size  # Create a list with 'pool_size' placeholders for nodes\n",
    "    suffix_tree.pool.next_node = None  # Initially, no next node available\n",
    "\n",
    "    # Create and initialize the root node\n",
    "    suffix_tree.root = new_node(suffix_tree, b'', b'')\n",
    "    suffix_tree.root.parent = suffix_tree.root  # Set the root's parent to itself\n",
    "    suffix_tree.root.suffix_link = suffix_tree.root  # Set the root's suffix link to itself\n",
    "\n",
    "    return suffix_tree\n",
    "\n",
    "# Example usage\n",
    "suffix_tree = alloc_suffix_tree(b\"example\")\n",
    "\n",
    "print(suffix_tree.string)  # Output: b'example'\n",
    "print(suffix_tree.length)  # Output: 8 (7 + 1 for '\\0')\n",
    "print(len(suffix_tree.pool.nodes))  # Output: 15 (2 * length - 1)\n",
    "print(suffix_tree.root is suffix_tree.root.parent)  # Output: True\n",
    "print(suffix_tree.root is suffix_tree.root.suffix_link)  # Output: True\n"
   ]
  },
  {
   "cell_type": "code",
   "execution_count": 19,
   "metadata": {},
   "outputs": [
    {
     "ename": "TypeError",
     "evalue": "can't concat int to bytes",
     "output_type": "error",
     "traceback": [
      "\u001b[1;31m---------------------------------------------------------------------------\u001b[0m",
      "\u001b[1;31mTypeError\u001b[0m                                 Traceback (most recent call last)",
      "Cell \u001b[1;32mIn[19], line 25\u001b[0m\n\u001b[0;32m     22\u001b[0m     \u001b[38;5;28;01mreturn\u001b[39;00m new_node(suffix_tree, suffix, xend)\n\u001b[0;32m     24\u001b[0m \u001b[38;5;66;03m# Create the suffix tree for a given string\u001b[39;00m\n\u001b[1;32m---> 25\u001b[0m suffix_tree \u001b[38;5;241m=\u001b[39m \u001b[43mnaive_suffix_tree\u001b[49m\u001b[43m(\u001b[49m\u001b[38;5;124;43mb\u001b[39;49m\u001b[38;5;124;43m\"\u001b[39;49m\u001b[38;5;124;43mexample\u001b[39;49m\u001b[38;5;124;43m\"\u001b[39;49m\u001b[43m)\u001b[49m\n\u001b[0;32m     27\u001b[0m \u001b[38;5;28mprint\u001b[39m(suffix_tree\u001b[38;5;241m.\u001b[39mstring)  \u001b[38;5;66;03m# Output: b'example'\u001b[39;00m\n\u001b[0;32m     28\u001b[0m \u001b[38;5;28mprint\u001b[39m(suffix_tree\u001b[38;5;241m.\u001b[39mlength)  \u001b[38;5;66;03m# Output: 8 (length of 'example' + 1)\u001b[39;00m\n",
      "Cell \u001b[1;32mIn[19], line 6\u001b[0m, in \u001b[0;36mnaive_suffix_tree\u001b[1;34m(string)\u001b[0m\n\u001b[0;32m      3\u001b[0m suffix_tree \u001b[38;5;241m=\u001b[39m alloc_suffix_tree(string)\n\u001b[0;32m      5\u001b[0m \u001b[38;5;66;03m# Manually insert the first suffix\u001b[39;00m\n\u001b[1;32m----> 6\u001b[0m first_suffix \u001b[38;5;241m=\u001b[39m new_node(suffix_tree, string, \u001b[43mstring\u001b[49m\u001b[43m \u001b[49m\u001b[38;5;241;43m+\u001b[39;49m\u001b[43m \u001b[49m\u001b[38;5;28;43mlen\u001b[39;49m\u001b[43m(\u001b[49m\u001b[43mstring\u001b[49m\u001b[43m)\u001b[49m)\n\u001b[0;32m      7\u001b[0m suffix_tree\u001b[38;5;241m.\u001b[39mroot\u001b[38;5;241m.\u001b[39mchild \u001b[38;5;241m=\u001b[39m first_suffix\n\u001b[0;32m      8\u001b[0m first_suffix\u001b[38;5;241m.\u001b[39mparent \u001b[38;5;241m=\u001b[39m suffix_tree\u001b[38;5;241m.\u001b[39mroot\n",
      "\u001b[1;31mTypeError\u001b[0m: can't concat int to bytes"
     ]
    }
   ],
   "source": [
    "def naive_suffix_tree(string):\n",
    "    # Allocate and initialize the suffix tree\n",
    "    suffix_tree = alloc_suffix_tree(string)\n",
    "\n",
    "    # Manually insert the first suffix\n",
    "    first_suffix = new_node(suffix_tree, string, string + len(string))\n",
    "    suffix_tree.root.child = first_suffix\n",
    "    first_suffix.parent = suffix_tree.root\n",
    "\n",
    "    # Insert all other suffixes\n",
    "    xend = string + len(string)\n",
    "    for i in range(1, len(string)):\n",
    "        leaf = naive_insert(suffix_tree, suffix_tree.root, string[i:], xend)\n",
    "        leaf.leaf_label = i\n",
    "\n",
    "    return suffix_tree\n",
    "\n",
    "# Example usage\n",
    "def naive_insert(suffix_tree, root, suffix, xend):\n",
    "    # Dummy implementation for naive_insert\n",
    "    # Should return a new suffix tree node\n",
    "    return new_node(suffix_tree, suffix, xend)\n",
    "\n",
    "# Create the suffix tree for a given string\n",
    "suffix_tree = naive_suffix_tree(b\"example\")\n",
    "\n",
    "print(suffix_tree.string)  # Output: b'example'\n",
    "print(suffix_tree.length)  # Output: 8 (length of 'example' + 1)\n",
    "print(suffix_tree.root.child.leaf_label)  # Output: 0 (leaf_label of the first inserted suffix)\n"
   ]
  },
  {
   "cell_type": "markdown",
   "metadata": {},
   "source": [
    "##### Testing examples"
   ]
  },
  {
   "cell_type": "markdown",
   "metadata": {},
   "source": [
    "When the tree construction is complete, its a very good idea to validate if the trees are actually suffix trees. To do this we can check the different criteria that such a tree has and check if our trees generated follow those criteria.\n",
    "\n",
    "Criteria we can could potentially check:\n",
    "- Spell of the substring is correct\n",
    "- Every node only has outgoing edges with unique starting symbols\n",
    "- \n",
    "\n",
    "Below are some typical test sequences used in examples."
   ]
  },
  {
   "cell_type": "code",
   "execution_count": 1,
   "metadata": {},
   "outputs": [
    {
     "data": {
      "text/plain": [
       "'mississippi'"
      ]
     },
     "execution_count": 1,
     "metadata": {},
     "output_type": "execute_result"
    }
   ],
   "source": [
    "\"aaaaaaaaaaa\"\n",
    "\"tatat\"\n",
    "\"mississippi\""
   ]
  }
 ],
 "metadata": {
  "kernelspec": {
   "display_name": "ctib",
   "language": "python",
   "name": "python3"
  },
  "language_info": {
   "codemirror_mode": {
    "name": "ipython",
    "version": 3
   },
   "file_extension": ".py",
   "mimetype": "text/x-python",
   "name": "python",
   "nbconvert_exporter": "python",
   "pygments_lexer": "ipython3",
   "version": "3.10.12"
  }
 },
 "nbformat": 4,
 "nbformat_minor": 2
}
