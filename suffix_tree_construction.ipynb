{
 "cells": [
  {
   "cell_type": "markdown",
   "metadata": {},
   "source": [
    "### Suffix tree construction"
   ]
  },
  {
   "cell_type": "markdown",
   "metadata": {},
   "source": [
    "To be able to optimize the search for patterns within strings we need to do a couple of steps.\n",
    "Firstly we need to construct a suffix tree that we can search through.\n",
    "For this construction the most naive version would take O(n^2) time to construct and O(n^2) space\n",
    "However it is possible to optimize it to O(n) runtime and O(n) space\n",
    "Space can be optimized by change the edges from symbols to idx\n",
    "runtime can be optimized by..."
   ]
  },
  {
   "cell_type": "code",
   "execution_count": null,
   "metadata": {},
   "outputs": [],
   "source": []
  }
 ],
 "metadata": {
  "language_info": {
   "name": "python"
  }
 },
 "nbformat": 4,
 "nbformat_minor": 2
}
